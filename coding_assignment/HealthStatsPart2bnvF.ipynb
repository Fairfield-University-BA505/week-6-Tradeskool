{
 "cells": [
  {
   "cell_type": "markdown",
   "metadata": {},
   "source": [
    "# Health Stats Part 1: Waist 2 Hip Ratios"
   ]
  },
  {
   "cell_type": "markdown",
   "metadata": {},
   "source": [
    "<!--- Write an explanation of the Waist To Hips Ratio statistic used by health professionals. Please include an explanation of what it is used for, exactly how it is calculated, and how to interpret the results. Note: Formmatting matters. Make this as professional as you can using Markdown.  --->\n",
    "\n",
    "<!--- feel free to use any web resources, including [Wikipedia](\n",
    "https://en.wikipedia.org/wiki/Waist%E2%80%93hip_ratio) or any other resources that you can find online. Just MAKE SURE you provide a link to every resource you decide to use. --->\n",
    "\n",
    "<!--- Including the formula, or that fancy diagram/table you see on wikipedia is DEFINITELY a good idea! How? The LaTeX equations section in [This link](\n",
    "https://jupyter-notebook.readthedocs.io/en/stable/examples/Notebook/Working%20With%20Markdown%20Cells.html) might help. --->\n",
    "\n",
    "<!--- For extra points, try to create a table similar to the one on the wikipedia page on your own. --->\n",
    "\n",
    "\n",
    "# Waist-Hip Ratio\n",
    "---\n",
    "\n",
    "   ### _Summary_\n",
    "\n",
    "The __waist to hip ratio (WHR)__ has long been used as a measurement of health. \n",
    "It measures the proportion of your waiste to your hips and determines if you have a higher risk of health issues based on historical data.\n",
    "There are many health related conditions that correlate with a high WHR. First let us understand how to measure it. \n",
    "\n",
    ">The measurement \"is calculated as waist measurement divided by hip measurement (W ÷ H). For example, a person with a 30″ (76 cm) waist and 38″ (97 cm) hips has a waist-hip ratio of about 0.78.\"\n",
    "-[Wikipedia](https://en.wikipedia.org/wiki/Waist%E2%80%93hip_ratio#WHO_protocol \"Waist–hip ratio source\")\n",
    "                                                                                                                                                    \n",
    "<img src=\"http://www.shdoonline.org/wp-content/uploads/2018/03/th-1-1.jpg\" />\n",
    "\n",
    "\n",
    "<!--- FORE REFERENCE (WIKIPEDIA): The waist-hip ratio or waist-to-hip ratio (WHR) is the dimensionless ratio of the circumference of the waist to that of the hips. This is calculated as waist measurement divided by hip measurement (W ÷ H). For example, a person with a 30″ (76 cm) waist and 38″ (97 cm) hips has a waist-hip ratio of about 0.78.\n",
    "\n",
    "The WHR has been used as an indicator or measure of health, and the risk of developing serious health conditions. WHR correlates with fertility (with different optimal values in males and females). --->\n",
    "\n",
    "\n",
    "\n",
    "   ### _Measurement Details_\n",
    "---\n",
    "\n",
    "   #### __World Helath Organization__ *(W.H.O.)*\n",
    "    \n",
    "   * The protocal according to WHO is as follows:\n",
    "       * Ensure you are using a stretch‐resistant tape that provides a constant 100 g tension\n",
    "       * Measure the waist: at the midpoint between the lower margin of the last palpable ribs and the top of the iliac crest\n",
    "       * Measure the hip: measure around the widest portion of the buttocks, with the tape parallel to the floor\n",
    "\n",
    "\n",
    "#### __National Institute of Health & National Helath and Nutrition Examination Survey__\n",
    "    \n",
    "   * The protocal according to the two entities are as follows:\n",
    "       * Ensure you are using a stretch‐resistant tape that provides a constant 100 g tension\n",
    "       * Measure the waist: measuring at the __top of the iliac crest__ _(different than WHO)_\n",
    "       * Measure the hip: measure around the widest portion of the buttocks, with the tape parallel to the floor\n",
    "\n",
    "\n",
    "\n",
    "#### __Standard practice under all organizations__\n",
    "    \n",
    "   1. feet close together\n",
    "   1. arms at the side and body weight evenly distributed\n",
    "   1. subject should be relaxed\n",
    "   1. measurements should be taken at the end of a normal respiration\n",
    "   1. Each measurement should be repeated twice\n",
    "       1. if the measurements are within 1 cm of one another, the average should be calculated\n",
    "       1. If the difference between the two measurements exceeds 1 cm, the two measurements should be repeated\n",
    "   \n",
    "     \n",
    "\n",
    "\n",
    "\n",
    "\n",
    "\n",
    "\n",
    "   ### _Results & Interpretation_\n",
    "---\n",
    "\n",
    "\n",
    "\n",
    "   \n",
    " \n",
    "|Category     |   Women*  |   Men*    |   Women** |   Men**   |   Women***|   Men***  |  \n",
    ":-------------|:---------:|:---------:|:---------:|:---------:|:---------:|:---------:|\n",
    "|Under-Weight |     ?     | ?         | ?         |?          |?          |?          | \n",
    "|Normal weight| <0.80     | <0.90     |?          |?          |?          |?          | \n",
    "|Over-weight  |0.80 - 0.84|0.90 - 0.99| ?         | ?         | ?         | ?         |\n",
    "|obeseity     | >0.85     | >1.00     | >0.85     | >0.90     | >0.80     | >1.00     |\n",
    "    \n",
    "    \n",
    "                                                                          *DGSP: Obesity is > 0.85 for women, > 1.00 for men _(they also have categoreies for over weight)_\n",
    "                                                                          **WHO: Obesity is > 0.85 for women, > 0.90 for men                                                                        \n",
    "                                                                          **NIDDK: Obesity is > 0.80 for women, > 1.00 for men\n",
    "\n",
    "\n",
    "\n",
    "### _What does an obease result mean?_\n",
    "\n",
    "1. Higher Health Risk: \n",
    "    * Heart Attack\n",
    "    * lower fertility rates\n",
    "    * growth hormone deficiancies\n",
    "    * lower cognitive ability with children of obese whr rates\n",
    " \n",
    " \n",
    "1. Social risk:\n",
    "    * lower female attractiveness"
   ]
  },
  {
   "cell_type": "markdown",
   "metadata": {},
   "source": [
    "## Source Data "
   ]
  },
  {
   "cell_type": "markdown",
   "metadata": {},
   "source": [
    "<!--- Replace the text below with a Markdown bullet list that defines the columns of the CSV file. Be sure to indicate the data type for each column. --->\n",
    "\n",
    "<!---Create a table talking to the data, name of the column, data, type, calcualtion, purpose --->\n",
    "\n",
    "<!--- Example can be: ID, unique identifier of each person, integer. Remember you need to put this into a bullet list! How? [This link](https://jupyter-notebook.readthedocs.io/en/stable/examples/Notebook/Working%20With%20Markdown%20Cells.html) might help. --->\n",
    "\n",
    "<!--- These two markdown cells are required in almost any analytical report. --->\n",
    "\n",
    "\n",
    "\n",
    "* ID:\n",
    "    * Description: Shows the unique identifier of the person. This eliminates personal information like full name, social security number \n",
    "    * type of the column is an integer\n",
    "       \n",
    "* Waist:\n",
    "    * Description: Shows the waist measurement for the individual with that specific ID number\n",
    "    * type of the column is an integer \n",
    "    \n",
    "\n",
    "\n",
    "* Hip:\n",
    "    * Description: Shows the hip measurement for the individual with that specific ID number\n",
    "    * type of the column is an integer \n",
    "   \n",
    "       \n",
    "       \n",
    "* Gender:\n",
    "    * Description: Shows the gender for the individual with that specific ID number\n",
    "    * type of the column is an string \n",
    "\n",
    "\n",
    "## Data Dictionary\n",
    "\n",
    "|Column     |   Data type   |   Calculation     |   Purpose   |  \n",
    ":-----------|:-------------:|:-----------------:|:-----------:|\n",
    "|ID         |     Int       |last ID NUMBER +1  | To track unique individuals without personal information         |\n",
    "|Waist      | Int           | Sourced from measurements| To record the waist measurent as an input to the w2h ratio      |\n",
    "|Hip        |Int            |Sourced from measurements | To record the hip measurent as an input to the w2h ratio        |\n",
    "|Gender     |  Str          | n/a     | To determine the threashold of obesity for the individual|\n",
    "|W2H Ratio  | float         | \\begin{equation*}\n",
    "\\frac{Waist}{Hip}\n",
    "\\end{equation*}    |To have a standardized statistic to compare against other people of the same gender|\n",
    "|Shape      | string        | if M and > 0.9 then apple else pear, if F and > 0.85 then apple else pear| To visually describe the curent shape of the idividual|\n",
    "\n"
   ]
  },
  {
   "cell_type": "markdown",
   "metadata": {},
   "source": [
    "## Data Import"
   ]
  },
  {
   "cell_type": "code",
   "execution_count": 1,
   "metadata": {
    "collapsed": true
   },
   "outputs": [],
   "source": [
    "# Goal: Extract the data from the file\n",
    "\n",
    "# opens the w2h_data.csv for reading\n",
    "f = open(\"w2h_data.csv\", \"r\")\n",
    "\n",
    "# loads the file into a list of strings, one string per line\n",
    "raw_lines = list(f)\n",
    "\n",
    "# closes the file\n",
    "f.close()"
   ]
  },
  {
   "cell_type": "code",
   "execution_count": 2,
   "metadata": {},
   "outputs": [
    {
     "name": "stdout",
     "output_type": "stream",
     "text": [
      "['ID,Waist,Hip,Gender\\n', '1,30,32,M\\n', '2,32,37,M\\n', '3,30,36,M\\n', '4,33,39,M\\n', '5,29,33,M\\n', '6,32,38,M\\n', '7,33,42,M\\n', '8,30,40,M\\n', '9,30,37,M\\n', '10,32,39,M\\n', '11,24,35,F\\n', '12,25,37,F\\n', '13,24,37,F\\n', '14,22,34,F\\n', '15,26,38,F\\n', '16,26,37,F\\n', '17,25,38,F\\n', '18,26,37,F\\n', '19,28,40,F\\n', '20,23,35,F\\n']\n"
     ]
    }
   ],
   "source": [
    "print(raw_lines)"
   ]
  },
  {
   "cell_type": "code",
   "execution_count": 10,
   "metadata": {
    "collapsed": true
   },
   "outputs": [
    {
     "name": "stdout",
     "output_type": "stream",
     "text": [
      "[{'ID': 1, 'Waist': 30.0, 'Hip': 32.0, 'Gender': 'M'}, {'ID': 2, 'Waist': 32.0, 'Hip': 37.0, 'Gender': 'M'}, {'ID': 3, 'Waist': 30.0, 'Hip': 36.0, 'Gender': 'M'}, {'ID': 4, 'Waist': 33.0, 'Hip': 39.0, 'Gender': 'M'}, {'ID': 5, 'Waist': 29.0, 'Hip': 33.0, 'Gender': 'M'}, {'ID': 6, 'Waist': 32.0, 'Hip': 38.0, 'Gender': 'M'}, {'ID': 7, 'Waist': 33.0, 'Hip': 42.0, 'Gender': 'M'}, {'ID': 8, 'Waist': 30.0, 'Hip': 40.0, 'Gender': 'M'}, {'ID': 9, 'Waist': 30.0, 'Hip': 37.0, 'Gender': 'M'}, {'ID': 10, 'Waist': 32.0, 'Hip': 39.0, 'Gender': 'M'}, {'ID': 11, 'Waist': 24.0, 'Hip': 35.0, 'Gender': 'F'}, {'ID': 12, 'Waist': 25.0, 'Hip': 37.0, 'Gender': 'F'}, {'ID': 13, 'Waist': 24.0, 'Hip': 37.0, 'Gender': 'F'}, {'ID': 14, 'Waist': 22.0, 'Hip': 34.0, 'Gender': 'F'}, {'ID': 15, 'Waist': 26.0, 'Hip': 38.0, 'Gender': 'F'}, {'ID': 16, 'Waist': 26.0, 'Hip': 37.0, 'Gender': 'F'}, {'ID': 17, 'Waist': 25.0, 'Hip': 38.0, 'Gender': 'F'}, {'ID': 18, 'Waist': 26.0, 'Hip': 37.0, 'Gender': 'F'}, {'ID': 19, 'Waist': 28.0, 'Hip': 40.0, 'Gender': 'F'}, {'ID': 20, 'Waist': 23.0, 'Hip': 35.0, 'Gender': 'F'}]\n"
     ]
    },
    {
     "data": {
      "text/plain": [
       "20"
      ]
     },
     "execution_count": 10,
     "metadata": {},
     "output_type": "execute_result"
    }
   ],
   "source": [
    "# Goal: Scrub and convert the data, loading it into a new list called rows\n",
    "\n",
    "# Strips out newline '\\n' characters and converts to a list\n",
    "raw_rows = [r.rstrip('\\n').split(',') for r in raw_lines] # <--- Whoa. Why does this work? \n",
    "\n",
    "# Creates a new list, starting with just the column names\n",
    "rows = list() \n",
    "\n",
    "# The first row is the keys wit the column names\n",
    "keys = raw_rows[0];\n",
    "\n",
    "# Convert each row_row, starting with the second\n",
    "dict={}\n",
    "waist_dict={}\n",
    "hip_dict={}\n",
    "gender_dict={}\n",
    "\n",
    "for raw_row in raw_rows[1:]:\n",
    "    \n",
    "    # Note: the values in the raw_row list are all strings.\n",
    "    # Create a new list called row that converts each item in raw_row to the right data type  \n",
    "    row_dict = {keys[0]:int(raw_row[0]),keys[1]:float(raw_row[1]),keys[2]:float(raw_row[2]),keys[3]:raw_row[3]} # FIX THIS; you'll need to use conversion functions\n",
    "    # structure the row as a dict  <-- FIX THIS: Write your code below\n",
    "    \n",
    "    \n",
    "    # Append the new row to the rows list as a dictionary <-- FIX THIS: Write your code below\n",
    "   \n",
    "    rows.append(row_dict)\n",
    "    \n",
    "# from here on out use the rows list instead of raw_rows or raw_lines\n",
    "print (rows)\n",
    "len(rows)"
   ]
  },
  {
   "cell_type": "code",
   "execution_count": 11,
   "metadata": {},
   "outputs": [],
   "source": [
    "#rows[k][\"ID\"]"
   ]
  },
  {
   "cell_type": "code",
   "execution_count": 12,
   "metadata": {},
   "outputs": [
    {
     "name": "stdout",
     "output_type": "stream",
     "text": [
      "[{'ID': 1, 'Waist': 30.0, 'Hip': 32.0, 'Gender': 'M', 'W2H Ratio': '', 'Shape': ''}, {'ID': 2, 'Waist': 32.0, 'Hip': 37.0, 'Gender': 'M', 'W2H Ratio': '', 'Shape': ''}, {'ID': 3, 'Waist': 30.0, 'Hip': 36.0, 'Gender': 'M', 'W2H Ratio': '', 'Shape': ''}, {'ID': 4, 'Waist': 33.0, 'Hip': 39.0, 'Gender': 'M', 'W2H Ratio': '', 'Shape': ''}, {'ID': 5, 'Waist': 29.0, 'Hip': 33.0, 'Gender': 'M', 'W2H Ratio': '', 'Shape': ''}, {'ID': 6, 'Waist': 32.0, 'Hip': 38.0, 'Gender': 'M', 'W2H Ratio': '', 'Shape': ''}, {'ID': 7, 'Waist': 33.0, 'Hip': 42.0, 'Gender': 'M', 'W2H Ratio': '', 'Shape': ''}, {'ID': 8, 'Waist': 30.0, 'Hip': 40.0, 'Gender': 'M', 'W2H Ratio': '', 'Shape': ''}, {'ID': 9, 'Waist': 30.0, 'Hip': 37.0, 'Gender': 'M', 'W2H Ratio': '', 'Shape': ''}, {'ID': 10, 'Waist': 32.0, 'Hip': 39.0, 'Gender': 'M', 'W2H Ratio': '', 'Shape': ''}, {'ID': 11, 'Waist': 24.0, 'Hip': 35.0, 'Gender': 'F', 'W2H Ratio': '', 'Shape': ''}, {'ID': 12, 'Waist': 25.0, 'Hip': 37.0, 'Gender': 'F', 'W2H Ratio': '', 'Shape': ''}, {'ID': 13, 'Waist': 24.0, 'Hip': 37.0, 'Gender': 'F', 'W2H Ratio': '', 'Shape': ''}, {'ID': 14, 'Waist': 22.0, 'Hip': 34.0, 'Gender': 'F', 'W2H Ratio': '', 'Shape': ''}, {'ID': 15, 'Waist': 26.0, 'Hip': 38.0, 'Gender': 'F', 'W2H Ratio': '', 'Shape': ''}, {'ID': 16, 'Waist': 26.0, 'Hip': 37.0, 'Gender': 'F', 'W2H Ratio': '', 'Shape': ''}, {'ID': 17, 'Waist': 25.0, 'Hip': 38.0, 'Gender': 'F', 'W2H Ratio': '', 'Shape': ''}, {'ID': 18, 'Waist': 26.0, 'Hip': 37.0, 'Gender': 'F', 'W2H Ratio': '', 'Shape': ''}, {'ID': 19, 'Waist': 28.0, 'Hip': 40.0, 'Gender': 'F', 'W2H Ratio': '', 'Shape': ''}, {'ID': 20, 'Waist': 23.0, 'Hip': 35.0, 'Gender': 'F', 'W2H Ratio': '', 'Shape': ''}]\n"
     ]
    }
   ],
   "source": [
    "for row_dict in rows[0:]:\n",
    "    row_dict.update({\"W2H Ratio\":'',\"Shape\":''})\n",
    "print(rows)\n"
   ]
  },
  {
   "cell_type": "code",
   "execution_count": 13,
   "metadata": {},
   "outputs": [
    {
     "name": "stdout",
     "output_type": "stream",
     "text": [
      "[{'ID': 1, 'Waist': 30.0, 'Hip': 32.0, 'Gender': 'M', 'W2H Ratio': 0.9375, 'Shape': 'Apple'}, {'ID': 2, 'Waist': 32.0, 'Hip': 37.0, 'Gender': 'M', 'W2H Ratio': 0.8648648648648649, 'Shape': 'Pear'}, {'ID': 3, 'Waist': 30.0, 'Hip': 36.0, 'Gender': 'M', 'W2H Ratio': 0.8333333333333334, 'Shape': 'Pear'}, {'ID': 4, 'Waist': 33.0, 'Hip': 39.0, 'Gender': 'M', 'W2H Ratio': 0.8461538461538461, 'Shape': 'Pear'}, {'ID': 5, 'Waist': 29.0, 'Hip': 33.0, 'Gender': 'M', 'W2H Ratio': 0.8787878787878788, 'Shape': 'Pear'}, {'ID': 6, 'Waist': 32.0, 'Hip': 38.0, 'Gender': 'M', 'W2H Ratio': 0.8421052631578947, 'Shape': 'Pear'}, {'ID': 7, 'Waist': 33.0, 'Hip': 42.0, 'Gender': 'M', 'W2H Ratio': 0.7857142857142857, 'Shape': 'Pear'}, {'ID': 8, 'Waist': 30.0, 'Hip': 40.0, 'Gender': 'M', 'W2H Ratio': 0.75, 'Shape': 'Pear'}, {'ID': 9, 'Waist': 30.0, 'Hip': 37.0, 'Gender': 'M', 'W2H Ratio': 0.8108108108108109, 'Shape': 'Pear'}, {'ID': 10, 'Waist': 32.0, 'Hip': 39.0, 'Gender': 'M', 'W2H Ratio': 0.8205128205128205, 'Shape': 'Pear'}, {'ID': 11, 'Waist': 24.0, 'Hip': 35.0, 'Gender': 'F', 'W2H Ratio': 0.6857142857142857, 'Shape': 'Pear'}, {'ID': 12, 'Waist': 25.0, 'Hip': 37.0, 'Gender': 'F', 'W2H Ratio': 0.6756756756756757, 'Shape': 'Pear'}, {'ID': 13, 'Waist': 24.0, 'Hip': 37.0, 'Gender': 'F', 'W2H Ratio': 0.6486486486486487, 'Shape': 'Pear'}, {'ID': 14, 'Waist': 22.0, 'Hip': 34.0, 'Gender': 'F', 'W2H Ratio': 0.6470588235294118, 'Shape': 'Pear'}, {'ID': 15, 'Waist': 26.0, 'Hip': 38.0, 'Gender': 'F', 'W2H Ratio': 0.6842105263157895, 'Shape': 'Pear'}, {'ID': 16, 'Waist': 26.0, 'Hip': 37.0, 'Gender': 'F', 'W2H Ratio': 0.7027027027027027, 'Shape': 'Pear'}, {'ID': 17, 'Waist': 25.0, 'Hip': 38.0, 'Gender': 'F', 'W2H Ratio': 0.6578947368421053, 'Shape': 'Pear'}, {'ID': 18, 'Waist': 26.0, 'Hip': 37.0, 'Gender': 'F', 'W2H Ratio': 0.7027027027027027, 'Shape': 'Pear'}, {'ID': 19, 'Waist': 28.0, 'Hip': 40.0, 'Gender': 'F', 'W2H Ratio': 0.7, 'Shape': 'Pear'}, {'ID': 20, 'Waist': 23.0, 'Hip': 35.0, 'Gender': 'F', 'W2H Ratio': 0.6571428571428571, 'Shape': 'Pear'}]\n"
     ]
    }
   ],
   "source": [
    "#calculations for below\n",
    "for row_dict in rows[0:]:\n",
    "    row_dict['W2H Ratio']=float(row_dict['Waist']/row_dict['Hip'])\n",
    "\n",
    "    if (row_dict['Gender']=='M' and row_dict['W2H Ratio'] > 0.9) or (row_dict['Gender'] == 'F' and row_dict['W2H Ratio'] > 0.8) :\n",
    "        row_dict['Shape'] = \"Apple\"\n",
    "    else:\n",
    "        row_dict['Shape'] = \"Pear\"\n",
    "print(rows)                                                                \n"
   ]
  },
  {
   "cell_type": "markdown",
   "metadata": {},
   "source": [
    "## Calculations"
   ]
  },
  {
   "cell_type": "code",
   "execution_count": 14,
   "metadata": {
    "collapsed": true
   },
   "outputs": [
    {
     "ename": "SyntaxError",
     "evalue": "invalid syntax (<ipython-input-14-3aa9fbdf518a>, line 20)",
     "output_type": "error",
     "traceback": [
      "\u001b[0;36m  File \u001b[0;32m\"<ipython-input-14-3aa9fbdf518a>\"\u001b[0;36m, line \u001b[0;32m20\u001b[0m\n\u001b[0;31m    if((row[k]['Gender']=='M' and row[k][w2h_ratio] > 0.9) or (row[k]['Gender'] == 'F' and row[k][w2h_ratio] > 0.8)) :\u001b[0m\n\u001b[0m     ^\u001b[0m\n\u001b[0;31mSyntaxError\u001b[0m\u001b[0;31m:\u001b[0m invalid syntax\n"
     ]
    }
   ],
   "source": [
    "# Goal: For each row of data calculate and store the w2h_ratio and shape.\n",
    "\n",
    "# Adds columns for the two new variables\n",
    "for row_dict in rows[0:]:\n",
    "    row_dict.update({\"W2H Ratio\":'',\"Shape\":''})\n",
    "    \n",
    "\n",
    "# For each row in the rows list, calculate the waist to hips ratio and shape\n",
    "for k in rows:\n",
    "    for dicts in row_dict:\n",
    "        row_dict.update ({\"W2H Ratio\",float(row[k]['Waist'])/float(row[k]['Hip'])})\n",
    "    \n",
    "    # Calculate the w2h_ratio \n",
    "       # w2h_ratio = float(rows[row]['Waist'])/float(rows[]['Hip']) # CHECK THIS; compare whether you did this in part 1\n",
    "\n",
    "                                                       \n",
    "    # Based on the ratio and the gender, set the variable shape to either 'apple' or 'pear'\n",
    "    #shape = 'Pear' # CHECK THIS; compare whether you did this in part 1\n",
    "    row_dict.update({\"Shape\",\n",
    "        if((row[k]['Gender']=='M' and row[k][w2h_ratio] > 0.9) or (row[k]['Gender'] == 'F' and row[k][w2h_ratio] > 0.8)) :\n",
    "            shape = \"Apple\"\n",
    "        else:\n",
    "            shape = \"Pear\"})\n",
    "    \n",
    "    # Add the new data to the end of the row\n",
    "    #row_dict[\"Shape\"] =float(row[k]['Waist'])/float(row[k]['Hip']} # note: += is shorthand for the extend method used above\n",
    "    "
   ]
  },
  {
   "cell_type": "code",
   "execution_count": 15,
   "metadata": {},
   "outputs": [
    {
     "name": "stdout",
     "output_type": "stream",
     "text": [
      "{'ID': 20, 'Waist': 23.0, 'Hip': 35.0, 'Gender': 'F', 'W2H Ratio': 0.6571428571428571, 'Shape': 'Pear'}\n"
     ]
    }
   ],
   "source": [
    "print(row_dict)"
   ]
  },
  {
   "cell_type": "markdown",
   "metadata": {},
   "source": [
    "## Output"
   ]
  },
  {
   "cell_type": "code",
   "execution_count": 16,
   "metadata": {
    "collapsed": false
   },
   "outputs": [
    {
     "data": {
      "text/html": [
       "<table><tr><th>ID</th><th>Waist</th><th>Hip</th><th>Gender</th><th>W2H Ratio</th><th>Shape</th></tr><tr><td>1</td><td>30.0</td><td>32.0</td><td>M</td><td>0.9375</td><td>Apple</td></tr><tr><td>2</td><td>32.0</td><td>37.0</td><td>M</td><td>0.8648648648648649</td><td>Pear</td></tr><tr><td>3</td><td>30.0</td><td>36.0</td><td>M</td><td>0.8333333333333334</td><td>Pear</td></tr><tr><td>4</td><td>33.0</td><td>39.0</td><td>M</td><td>0.8461538461538461</td><td>Pear</td></tr><tr><td>5</td><td>29.0</td><td>33.0</td><td>M</td><td>0.8787878787878788</td><td>Pear</td></tr><tr><td>6</td><td>32.0</td><td>38.0</td><td>M</td><td>0.8421052631578947</td><td>Pear</td></tr><tr><td>7</td><td>33.0</td><td>42.0</td><td>M</td><td>0.7857142857142857</td><td>Pear</td></tr><tr><td>8</td><td>30.0</td><td>40.0</td><td>M</td><td>0.75</td><td>Pear</td></tr><tr><td>9</td><td>30.0</td><td>37.0</td><td>M</td><td>0.8108108108108109</td><td>Pear</td></tr><tr><td>10</td><td>32.0</td><td>39.0</td><td>M</td><td>0.8205128205128205</td><td>Pear</td></tr><tr><td>11</td><td>24.0</td><td>35.0</td><td>F</td><td>0.6857142857142857</td><td>Pear</td></tr><tr><td>12</td><td>25.0</td><td>37.0</td><td>F</td><td>0.6756756756756757</td><td>Pear</td></tr><tr><td>13</td><td>24.0</td><td>37.0</td><td>F</td><td>0.6486486486486487</td><td>Pear</td></tr><tr><td>14</td><td>22.0</td><td>34.0</td><td>F</td><td>0.6470588235294118</td><td>Pear</td></tr><tr><td>15</td><td>26.0</td><td>38.0</td><td>F</td><td>0.6842105263157895</td><td>Pear</td></tr><tr><td>16</td><td>26.0</td><td>37.0</td><td>F</td><td>0.7027027027027027</td><td>Pear</td></tr><tr><td>17</td><td>25.0</td><td>38.0</td><td>F</td><td>0.6578947368421053</td><td>Pear</td></tr><tr><td>18</td><td>26.0</td><td>37.0</td><td>F</td><td>0.7027027027027027</td><td>Pear</td></tr><tr><td>19</td><td>28.0</td><td>40.0</td><td>F</td><td>0.7</td><td>Pear</td></tr><tr><td>20</td><td>23.0</td><td>35.0</td><td>F</td><td>0.6571428571428571</td><td>Pear</td></tr></table>"
      ],
      "text/plain": [
       "<IPython.core.display.HTML object>"
      ]
     },
     "metadata": {},
     "output_type": "display_data"
    }
   ],
   "source": [
    "# Goal: pretty print the rows as an HTML table\n",
    "\n",
    "# Note: this works, but we can do this much better with pandas\n",
    "html_table = '<table><tr><th>'\n",
    "html_table += \"</th><th>\".join(rows[0].keys())\n",
    "html_table += '</th></tr>'\n",
    "for row in rows:\n",
    "    html_table += \"<tr><td>\"\n",
    "    html_table += \"</td><td>\".join(str(v) for v in row.values())\n",
    "    html_table += \"</td></tr>\"\n",
    "html_table += \"</table>\"\n",
    "\n",
    "from IPython.display import HTML, display\n",
    "display(HTML(html_table))"
   ]
  },
  {
   "cell_type": "code",
   "execution_count": null,
   "metadata": {
    "collapsed": true
   },
   "outputs": [],
   "source": []
  }
 ],
 "metadata": {
  "kernelspec": {
   "display_name": "Python 3",
   "language": "python",
   "name": "python3"
  },
  "language_info": {
   "codemirror_mode": {
    "name": "ipython",
    "version": 3
   },
   "file_extension": ".py",
   "mimetype": "text/x-python",
   "name": "python",
   "nbconvert_exporter": "python",
   "pygments_lexer": "ipython3",
   "version": "3.6.7"
  }
 },
 "nbformat": 4,
 "nbformat_minor": 2
}
